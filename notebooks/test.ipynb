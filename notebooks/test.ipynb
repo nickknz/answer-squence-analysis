{
 "cells": [
  {
   "cell_type": "code",
   "execution_count": 1,
   "id": "0dcbb649",
   "metadata": {},
   "outputs": [],
   "source": [
    "import pandas as pd\n",
    "import networkx as nx\n",
    "import matplotlib.pyplot as plt"
   ]
  },
  {
   "cell_type": "code",
   "execution_count": 2,
   "id": "c5341375",
   "metadata": {},
   "outputs": [],
   "source": [
    "import sys\n",
    "import os\n",
    "sys.path.append(os.path.abspath(\"..\"))"
   ]
  },
  {
   "cell_type": "code",
   "execution_count": 3,
   "id": "7f1d3807",
   "metadata": {},
   "outputs": [
    {
     "name": "stderr",
     "output_type": "stream",
     "text": [
      "/Users/nickzheng/Documents/answerbook/venv/lib/python3.8/site-packages/tqdm/auto.py:21: TqdmWarning: IProgress not found. Please update jupyter and ipywidgets. See https://ipywidgets.readthedocs.io/en/stable/user_install.html\n",
      "  from .autonotebook import tqdm as notebook_tqdm\n"
     ]
    }
   ],
   "source": [
    "from src.utils.submissions_graph_transform import *\n",
    "from src.models.embedding import *\n"
   ]
  },
  {
   "cell_type": "code",
   "execution_count": 4,
   "id": "efe184dd",
   "metadata": {},
   "outputs": [],
   "source": [
    "df = pd.read_parquet(\"../data/all_submissions.parquet\")\n",
    "G, student_paths = submissions_to_graph_for_all_students(df)"
   ]
  },
  {
   "cell_type": "code",
   "execution_count": 5,
   "id": "d14509f7",
   "metadata": {},
   "outputs": [
    {
     "name": "stderr",
     "output_type": "stream",
     "text": [
      "Computing transition probabilities: 100%|██████████| 29/29 [00:00<00:00, 419.80it/s]\n",
      "Generating walks (CPU: 1): 100%|██████████| 50/50 [00:00<00:00, 109.05it/s]\n",
      "Generating walks (CPU: 3): 100%|██████████| 50/50 [00:00<00:00, 116.51it/s]\n",
      "Generating walks (CPU: 2): 100%|██████████| 50/50 [00:00<00:00, 107.23it/s]\n",
      "Generating walks (CPU: 4): 100%|██████████| 50/50 [00:00<00:00, 113.53it/s]\n"
     ]
    }
   ],
   "source": [
    "node_embeddings = embed_graph(G)\n"
   ]
  },
  {
   "cell_type": "code",
   "execution_count": 6,
   "id": "dd3991f7",
   "metadata": {},
   "outputs": [],
   "source": [
    "\n",
    "from src.models.sequence_model import train_sequence_model"
   ]
  },
  {
   "cell_type": "code",
   "execution_count": 7,
   "id": "53d16a8a",
   "metadata": {},
   "outputs": [
    {
     "name": "stderr",
     "output_type": "stream",
     "text": [
      "/Users/nickzheng/Documents/individual-project/src/models/sequence_model.py:15: UserWarning: Creating a tensor from a list of numpy.ndarrays is extremely slow. Please consider converting the list to a single numpy.ndarray with numpy.array() before converting to a tensor. (Triggered internally at /Users/runner/work/pytorch/pytorch/pytorch/torch/csrc/utils/tensor_new.cpp:278.)\n",
      "  self.sequences = torch.FloatTensor(sequence_data)\n"
     ]
    },
    {
     "name": "stdout",
     "output_type": "stream",
     "text": [
      "Epoch 1/10, Loss: 0.0034\n",
      "Epoch 2/10, Loss: 0.0023\n",
      "Epoch 3/10, Loss: 0.0019\n",
      "Epoch 4/10, Loss: 0.0018\n",
      "Epoch 5/10, Loss: 0.0017\n",
      "Epoch 6/10, Loss: 0.0017\n",
      "Epoch 7/10, Loss: 0.0017\n",
      "Epoch 8/10, Loss: 0.0017\n",
      "Epoch 9/10, Loss: 0.0016\n",
      "Epoch 10/10, Loss: 0.0016\n"
     ]
    }
   ],
   "source": [
    "(trained_model, student_sequence_embeddings) = train_sequence_model(student_paths, node_embeddings)"
   ]
  },
  {
   "cell_type": "code",
   "execution_count": null,
   "id": "d6a071bf",
   "metadata": {},
   "outputs": [],
   "source": [
    "for stu, embedding in student_sequence_embeddings.items():\n",
    "    print(f\"Student: {stu}, Embedding: {embedding[:5]}...\")"
   ]
  },
  {
   "cell_type": "code",
   "execution_count": 8,
   "id": "7341d557",
   "metadata": {},
   "outputs": [],
   "source": [
    "from src.models.clustering import perform_clustering, find_optimal_clusters, visualize_clusters"
   ]
  },
  {
   "cell_type": "code",
   "execution_count": null,
   "id": "bcc6cbb7",
   "metadata": {},
   "outputs": [],
   "source": [
    "# Find optimal number of clusters\n",
    "optimal_clusters = find_optimal_clusters(\n",
    "    student_sequence_embeddings, \n",
    "    max_clusters=10, \n",
    "    random_state=42\n",
    ")\n",
    "\n",
    "print(f\"最佳聚类数量: {optimal_clusters}\")"
   ]
  }
 ],
 "metadata": {
  "kernelspec": {
   "display_name": "venv",
   "language": "python",
   "name": "python3"
  },
  "language_info": {
   "codemirror_mode": {
    "name": "ipython",
    "version": 3
   },
   "file_extension": ".py",
   "mimetype": "text/x-python",
   "name": "python",
   "nbconvert_exporter": "python",
   "pygments_lexer": "ipython3",
   "version": "3.8.10"
  }
 },
 "nbformat": 4,
 "nbformat_minor": 5
}
